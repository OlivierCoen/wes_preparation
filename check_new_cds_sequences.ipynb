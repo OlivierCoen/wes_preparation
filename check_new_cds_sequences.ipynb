{
 "cells": [
  {
   "cell_type": "code",
   "id": "initial_id",
   "metadata": {
    "collapsed": true
   },
   "source": [
    "from Bio import SeqIO\n",
    "from tqdm.auto import tqdm\n",
    "tqdm.pandas()"
   ],
   "outputs": [],
   "execution_count": 1
  },
  {
   "metadata": {},
   "cell_type": "markdown",
   "source": "## After creation of CDS file with AGAT",
   "id": "73bdc9078fb2757c"
  },
  {
   "metadata": {},
   "cell_type": "markdown",
   "source": "### Parsing new CDS file",
   "id": "f57e8a104db97e62"
  },
  {
   "metadata": {
    "ExecuteTime": {
     "end_time": "2025-02-03T11:38:24.082088Z",
     "start_time": "2025-02-03T11:38:23.868081Z"
    }
   },
   "cell_type": "code",
   "source": [
    "cds_file = \"Ahypochondriacus_315_v1.0.cds.fa\"\n",
    "with open(cds_file, 'r') as fin:\n",
    "    cds_records = list(SeqIO.parse(fin, format='fasta'))\n",
    "print(f\"Number of CDS sequences: {len(cds_records)}\")\n",
    "cds_ids = [rec.id for rec in cds_records]\n",
    "cds_record_lengths = [len(rec.seq) for rec in cds_records]\n",
    "length_sum = sum(cds_record_lengths)\n",
    "print(f\"Cumulated length of all CDS: {length_sum}\")"
   ],
   "id": "6c3b27ac82f4863a",
   "outputs": [
    {
     "name": "stdout",
     "output_type": "stream",
     "text": [
      "Number of CDS sequences: 22398\n",
      "Cumulated length of all CDS: 19581078\n"
     ]
    }
   ],
   "execution_count": 2
  },
  {
   "metadata": {},
   "cell_type": "markdown",
   "source": "### Checking if the new sequences are subset of the original ones",
   "id": "f8c74af55d84cd69"
  },
  {
   "metadata": {
    "ExecuteTime": {
     "end_time": "2025-02-03T11:38:24.165820Z",
     "start_time": "2025-02-03T11:38:24.163246Z"
    }
   },
   "cell_type": "code",
   "source": "original_cds_file = \"Phytozome/PhytozomeV12/Ahypochondriacus/annotation/Ahypochondriacus_315_v1.0.cds_primaryTranscriptOnly.fa\"",
   "id": "aecc485a804bd895",
   "outputs": [],
   "execution_count": 3
  },
  {
   "metadata": {
    "ExecuteTime": {
     "end_time": "2025-02-03T11:39:13.398464Z",
     "start_time": "2025-02-03T11:39:12.951128Z"
    }
   },
   "cell_type": "code",
   "source": [
    "with open(original_cds_file, 'r') as fin:\n",
    "    original_cds_records = list(SeqIO.parse(fin, format='fasta'))\n",
    "original_cds_records = sorted(original_cds_records, key=lambda rec: rec.id)\n",
    "original_cds_ids = [rec.id for rec in original_cds_records]\n",
    "original_cds_record_lengths = [len(rec.seq) for rec in original_cds_records]\n",
    "original_length_sum = sum(original_cds_record_lengths)"
   ],
   "id": "21b7e32a798cb8f5",
   "outputs": [],
   "execution_count": 9
  },
  {
   "metadata": {
    "ExecuteTime": {
     "end_time": "2025-02-03T11:38:32.016306Z",
     "start_time": "2025-02-03T11:38:24.424265Z"
    }
   },
   "cell_type": "code",
   "source": [
    "# checking that all cds sequences are subset of the original ones\n",
    "# it's not a problem if new sequences are present, they were in the annotation file anyway\n",
    "for cds_id in cds_ids:\n",
    "    if not cds_id.split(\".\")[0] in original_cds_ids:\n",
    "        print(f\"Record {cds_id} not found in original file\")\n",
    "    "
   ],
   "id": "6ba5c07b8dfd5f3b",
   "outputs": [
    {
     "name": "stdout",
     "output_type": "stream",
     "text": [
      "Record AHYPO_000257-RA.v1.0 not found in original file\n",
      "Record AHYPO_000714-RB.v1.0 not found in original file\n",
      "Record AHYPO_002098-RB.v1.0 not found in original file\n",
      "Record AHYPO_003994-RB.v1.0 not found in original file\n",
      "Record AHYPO_004528-RA.v1.0 not found in original file\n",
      "Record AHYPO_006727-RA.v1.0 not found in original file\n",
      "Record AHYPO_007499-RB.v1.0 not found in original file\n",
      "Record AHYPO_008341-RA.v1.0 not found in original file\n",
      "Record AHYPO_008697-RA.v1.0 not found in original file\n",
      "Record AHYPO_012862-RB.v1.0 not found in original file\n",
      "Record AHYPO_012998-RB.v1.0 not found in original file\n",
      "Record AHYPO_014835-RB.v1.0 not found in original file\n",
      "Record AHYPO_015049-RB.v1.0 not found in original file\n",
      "Record AHYPO_015496-RA.v1.0 not found in original file\n",
      "Record AHYPO_015878-RA.v1.0 not found in original file\n",
      "Record AHYPO_016548-RB.v1.0 not found in original file\n",
      "Record AHYPO_018999-RB.v1.0 not found in original file\n",
      "Record AHYPO_019180-RA.v1.0 not found in original file\n",
      "Record AHYPO_021400-RA.v1.0 not found in original file\n",
      "Record AHYPO_021779-RA.v1.0 not found in original file\n",
      "Record AHYPO_021914-RB.v1.0 not found in original file\n",
      "Record AHYPO_022068-RB.v1.0 not found in original file\n",
      "Record AHYPO_022155-RB.v1.0 not found in original file\n",
      "Record AHYPO_022176-RA.v1.0 not found in original file\n",
      "Record AHYPO_022831-RA.v1.0 not found in original file\n",
      "Record AHYPO_022960-RA.v1.0 not found in original file\n"
     ]
    }
   ],
   "execution_count": 5
  },
  {
   "metadata": {},
   "cell_type": "markdown",
   "source": "### Checking if the size ratio is respected",
   "id": "1a83569322ce6f57"
  },
  {
   "metadata": {
    "ExecuteTime": {
     "end_time": "2025-02-03T11:39:16.560128Z",
     "start_time": "2025-02-03T11:39:16.554445Z"
    }
   },
   "cell_type": "code",
   "source": [
    "target_length_sum = 2E7\n",
    "trimming_ratio = 1 - target_length_sum / original_length_sum\n",
    "trimming_ratio"
   ],
   "id": "a2555702d60ad574",
   "outputs": [
    {
     "data": {
      "text/plain": [
       "0.26009715812197265"
      ]
     },
     "execution_count": 10,
     "metadata": {},
     "output_type": "execute_result"
    }
   ],
   "execution_count": 10
  },
  {
   "metadata": {
    "ExecuteTime": {
     "end_time": "2025-02-03T11:39:21.691242Z",
     "start_time": "2025-02-03T11:39:17.454004Z"
    }
   },
   "cell_type": "code",
   "source": [
    "tolerance = 0.1\n",
    "expected_length_ratio = 1 - trimming_ratio\n",
    "min_ratio = expected_length_ratio * (1 - tolerance)\n",
    "max_ratio = expected_length_ratio * (1 + tolerance)\n",
    "\n",
    "for record in tqdm(cds_records):\n",
    "    for original_record in original_cds_records:\n",
    "        # checking if the new sequence is contained in the original one\n",
    "        if record.id.split(\".\")[0] == original_record.id:\n",
    "            \n",
    "            if not record.seq in original_record.seq:\n",
    "                raise ValueError(f'Sequence of {record.id} is not included in the original one')\n",
    "            \n",
    "            # checking if the size ratio is respected\n",
    "            actual_ratio = len(record.seq) / len(original_record.seq)\n",
    "            if not min_ratio <= actual_ratio <= max_ratio:\n",
    "                raise ValueError(f'Ratio of {record.id}: {actual_ratio}  is not between {min_ratio} and {max_ratio}')\n",
    "        "
   ],
   "id": "8a588efedb68c93a",
   "outputs": [
    {
     "data": {
      "text/plain": [
       "  0%|          | 0/22398 [00:00<?, ?it/s]"
      ],
      "application/vnd.jupyter.widget-view+json": {
       "version_major": 2,
       "version_minor": 0,
       "model_id": "c2c543d1e01942ba8b50404be54f7a0e"
      }
     },
     "metadata": {},
     "output_type": "display_data"
    },
    {
     "ename": "KeyboardInterrupt",
     "evalue": "",
     "output_type": "error",
     "traceback": [
      "\u001B[0;31m---------------------------------------------------------------------------\u001B[0m",
      "\u001B[0;31mKeyboardInterrupt\u001B[0m                         Traceback (most recent call last)",
      "Cell \u001B[0;32mIn[11], line 11\u001B[0m\n\u001B[1;32m      7\u001B[0m \u001B[38;5;28;01mfor\u001B[39;00m original_record \u001B[38;5;129;01min\u001B[39;00m original_cds_records:\n\u001B[1;32m      8\u001B[0m     \u001B[38;5;66;03m# checking if the new sequence is contained in the original one\u001B[39;00m\n\u001B[1;32m      9\u001B[0m     \u001B[38;5;28;01mif\u001B[39;00m record\u001B[38;5;241m.\u001B[39mid\u001B[38;5;241m.\u001B[39msplit(\u001B[38;5;124m\"\u001B[39m\u001B[38;5;124m.\u001B[39m\u001B[38;5;124m\"\u001B[39m)[\u001B[38;5;241m0\u001B[39m] \u001B[38;5;241m==\u001B[39m original_record\u001B[38;5;241m.\u001B[39mid:\n\u001B[0;32m---> 11\u001B[0m         \u001B[38;5;28;01mif\u001B[39;00m \u001B[38;5;129;01mnot\u001B[39;00m \u001B[43mrecord\u001B[49m\u001B[38;5;241;43m.\u001B[39;49m\u001B[43mseq\u001B[49m\u001B[43m \u001B[49m\u001B[38;5;129;43;01min\u001B[39;49;00m\u001B[43m \u001B[49m\u001B[43moriginal_record\u001B[49m\u001B[38;5;241;43m.\u001B[39;49m\u001B[43mseq\u001B[49m:\n\u001B[1;32m     12\u001B[0m             \u001B[38;5;28;01mraise\u001B[39;00m \u001B[38;5;167;01mValueError\u001B[39;00m(\u001B[38;5;124mf\u001B[39m\u001B[38;5;124m'\u001B[39m\u001B[38;5;124mSequence of \u001B[39m\u001B[38;5;132;01m{\u001B[39;00mrecord\u001B[38;5;241m.\u001B[39mid\u001B[38;5;132;01m}\u001B[39;00m\u001B[38;5;124m is not included in the original one\u001B[39m\u001B[38;5;124m'\u001B[39m)\n\u001B[1;32m     14\u001B[0m         \u001B[38;5;66;03m# checking if the size ratio is respected\u001B[39;00m\n",
      "File \u001B[0;32m~/micromamba/envs/homology/lib/python3.12/site-packages/Bio/Seq.py:771\u001B[0m, in \u001B[0;36m_SeqAbstractBaseClass.__contains__\u001B[0;34m(self, item)\u001B[0m\n\u001B[1;32m    757\u001B[0m \u001B[38;5;28;01mdef\u001B[39;00m\u001B[38;5;250m \u001B[39m\u001B[38;5;21m__contains__\u001B[39m(\u001B[38;5;28mself\u001B[39m, item):\n\u001B[1;32m    758\u001B[0m \u001B[38;5;250m    \u001B[39m\u001B[38;5;124;03m\"\"\"Return True if item is a subsequence of the sequence, and False otherwise.\u001B[39;00m\n\u001B[1;32m    759\u001B[0m \n\u001B[1;32m    760\u001B[0m \u001B[38;5;124;03m    e.g.\u001B[39;00m\n\u001B[0;32m   (...)\u001B[0m\n\u001B[1;32m    769\u001B[0m \u001B[38;5;124;03m    True\u001B[39;00m\n\u001B[1;32m    770\u001B[0m \u001B[38;5;124;03m    \"\"\"\u001B[39;00m\n\u001B[0;32m--> 771\u001B[0m     \u001B[38;5;28;01mif\u001B[39;00m \u001B[38;5;28;43misinstance\u001B[39;49m\u001B[43m(\u001B[49m\u001B[43mitem\u001B[49m\u001B[43m,\u001B[49m\u001B[43m \u001B[49m\u001B[43m_SeqAbstractBaseClass\u001B[49m\u001B[43m)\u001B[49m:\n\u001B[1;32m    772\u001B[0m         item \u001B[38;5;241m=\u001B[39m \u001B[38;5;28mbytes\u001B[39m(item)\n\u001B[1;32m    773\u001B[0m     \u001B[38;5;28;01melif\u001B[39;00m \u001B[38;5;28misinstance\u001B[39m(item, \u001B[38;5;28mstr\u001B[39m):\n",
      "File \u001B[0;32m<frozen abc>:117\u001B[0m, in \u001B[0;36m__instancecheck__\u001B[0;34m(cls, instance)\u001B[0m\n",
      "\u001B[0;31mKeyboardInterrupt\u001B[0m: "
     ]
    }
   ],
   "execution_count": 11
  },
  {
   "metadata": {},
   "cell_type": "code",
   "outputs": [],
   "execution_count": null,
   "source": "",
   "id": "edca89ecf725f6c4"
  }
 ],
 "metadata": {
  "kernelspec": {
   "display_name": "Python 3",
   "language": "python",
   "name": "python3"
  },
  "language_info": {
   "codemirror_mode": {
    "name": "ipython",
    "version": 2
   },
   "file_extension": ".py",
   "mimetype": "text/x-python",
   "name": "python",
   "nbconvert_exporter": "python",
   "pygments_lexer": "ipython2",
   "version": "2.7.6"
  }
 },
 "nbformat": 4,
 "nbformat_minor": 5
}
