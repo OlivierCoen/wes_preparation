{
 "cells": [
  {
   "metadata": {
    "ExecuteTime": {
     "end_time": "2025-01-27T14:27:17.138507Z",
     "start_time": "2025-01-27T14:27:17.052003Z"
    }
   },
   "cell_type": "code",
   "source": "from Bio import SeqIO",
   "id": "81a875d57fe6e692",
   "outputs": [],
   "execution_count": 1
  },
  {
   "metadata": {
    "ExecuteTime": {
     "end_time": "2025-01-27T14:27:17.561617Z",
     "start_time": "2025-01-27T14:27:17.391864Z"
    }
   },
   "cell_type": "code",
   "source": [
    "#cds_file = \"Ahypochondriacus_315_v1.0.cds_primaryTranscriptOnly.fa\"\n",
    "cds_file = \"Ahypochondriacus_459_v2.1.cds_primaryTranscriptOnly.fa\"\n",
    "with open(cds_file, 'r') as fin:\n",
    "    cds_records = list(SeqIO.parse(fin, format='fasta'))\n",
    "print(len(cds_records))\n",
    "cds_record_lengths = [len(rec.seq) for rec in cds_records]\n",
    "original_length_sum = sum(cds_record_lengths)\n",
    "print(original_length_sum)"
   ],
   "id": "7e62b615451c9c1a",
   "outputs": [
    {
     "name": "stdout",
     "output_type": "stream",
     "text": [
      "23843\n",
      "25454082\n"
     ]
    }
   ],
   "execution_count": 2
  },
  {
   "metadata": {
    "ExecuteTime": {
     "end_time": "2025-01-27T14:27:41.633734Z",
     "start_time": "2025-01-27T14:27:41.624185Z"
    }
   },
   "cell_type": "code",
   "source": [
    "target_length_sum = 2E7\n",
    "ratio  = target_length_sum / original_length_sum\n",
    "ratio"
   ],
   "id": "d6e82f18acba8cd6",
   "outputs": [
    {
     "data": {
      "text/plain": [
       "0.7857285915869997"
      ]
     },
     "execution_count": 5,
     "metadata": {},
     "output_type": "execute_result"
    }
   ],
   "execution_count": 5
  },
  {
   "metadata": {
    "ExecuteTime": {
     "end_time": "2025-01-27T14:27:46.551958Z",
     "start_time": "2025-01-27T14:27:46.445726Z"
    }
   },
   "cell_type": "code",
   "source": [
    "for rec in cds_records:\n",
    "    rec.seq = rec.seq[:int(len(rec.seq) * ratio)]"
   ],
   "id": "6a1f4a781288e456",
   "outputs": [],
   "execution_count": 6
  },
  {
   "metadata": {
    "ExecuteTime": {
     "end_time": "2025-01-27T14:27:50.496822Z",
     "start_time": "2025-01-27T14:27:50.486016Z"
    }
   },
   "cell_type": "code",
   "source": [
    "cds_record_lengths = [len(rec.seq) for rec in cds_records]\n",
    "new_length_sum = sum(cds_record_lengths)\n",
    "new_length_sum\n"
   ],
   "id": "7e5fc643ac5af25e",
   "outputs": [
    {
     "data": {
      "text/plain": [
       "19988609"
      ]
     },
     "execution_count": 7,
     "metadata": {},
     "output_type": "execute_result"
    }
   ],
   "execution_count": 7
  },
  {
   "metadata": {
    "ExecuteTime": {
     "end_time": "2025-01-27T14:28:01.740246Z",
     "start_time": "2025-01-27T14:28:01.735138Z"
    }
   },
   "cell_type": "code",
   "source": "print(cds_records[0].seq)",
   "id": "3da7905244140665",
   "outputs": [
    {
     "name": "stdout",
     "output_type": "stream",
     "text": [
      "ATGTTCAGAAATCAGTATGATACAGATGTAACGACATGGAGTCCTGCAGGACGACTCTTCCAAGTAGAGTACGCCATGGAAGCAGTGAAGCAAGGTTCTGCTGCAATTGGTCTTCGATCCAAAACTCATGTTGTTTTGGCTTGTGTTAACAAAGCTCAATCTGAACTGTCGTCTCATCAGCGCAAGATCTTTAAAGTTGATGATCATATTGGTGTAGCCATTGCTGGTCTTACTGCCGATGGCCGTGTTCTTTCCAGATATATGAGATCTGAATGTATTAATTATAGTTTCACTTATGAGTCTTCGCTCCCTGTTGGTCGACTTGTTGTTCAACTCGCTGATAAAGCCCAGGTCTGCACTCAACGTTCTTGGAAGCGACCTTTTGGTGTTGGTTTGTTGGTCGGTGGTTTGGACGAGTCTGGAGCTCATCTATACTATAACTGTCCAAGTGGAAATTACTTTGAGTACCAGGCGTTTGCTATTGGGTCACGCTCACAGGCCGCAAAAACTTACATGGAACGGAAATTTGACACATTTAATGATGCATCACCACAAGAGTTGATCAAGCATGCACTCTTTGCTATAAAGGAAACCTTGCAGGGAGAGAAGTTCACAAGCTCCATTTGCACAGTCGCTGTTGTGGGAGTCGGGG\n",
      "652\n"
     ]
    }
   ],
   "execution_count": 8
  },
  {
   "metadata": {
    "ExecuteTime": {
     "end_time": "2025-01-27T14:28:08.832306Z",
     "start_time": "2025-01-27T14:28:08.667534Z"
    }
   },
   "cell_type": "code",
   "source": [
    "#outfile = \"Ahypochondriacus_315_v1.0.cds_primaryTranscriptOnly.cter_trimmed.fa\"\n",
    "outfile = \"Ahypochondriacus_459_v2.1.cds_primaryTranscriptOnly.cter_trimmed.fa\"\n",
    "SeqIO.write(cds_records, outfile, \"fasta\")"
   ],
   "id": "472da4dd4dc1e616",
   "outputs": [
    {
     "data": {
      "text/plain": [
       "23843"
      ]
     },
     "execution_count": 9,
     "metadata": {},
     "output_type": "execute_result"
    }
   ],
   "execution_count": 9
  },
  {
   "metadata": {
    "ExecuteTime": {
     "end_time": "2025-01-27T14:28:12.446198Z",
     "start_time": "2025-01-27T14:28:12.285892Z"
    }
   },
   "cell_type": "code",
   "source": [
    "with open(outfile, 'r') as fin:\n",
    "    records = list(SeqIO.parse(fin, format='fasta'))\n",
    "print(len(records))\n",
    "cds_record_lengths = [len(rec.seq) for rec in cds_records]\n",
    "sum(cds_record_lengths)"
   ],
   "id": "6150709cecaec3ad",
   "outputs": [
    {
     "name": "stdout",
     "output_type": "stream",
     "text": [
      "23843\n"
     ]
    },
    {
     "data": {
      "text/plain": [
       "19988609"
      ]
     },
     "execution_count": 10,
     "metadata": {},
     "output_type": "execute_result"
    }
   ],
   "execution_count": 10
  },
  {
   "metadata": {},
   "cell_type": "code",
   "outputs": [],
   "execution_count": null,
   "source": "",
   "id": "24c4afe86d938aef"
  }
 ],
 "metadata": {
  "kernelspec": {
   "display_name": "Python 3",
   "language": "python",
   "name": "python3"
  },
  "language_info": {
   "codemirror_mode": {
    "name": "ipython",
    "version": 2
   },
   "file_extension": ".py",
   "mimetype": "text/x-python",
   "name": "python",
   "nbconvert_exporter": "python",
   "pygments_lexer": "ipython2",
   "version": "2.7.6"
  }
 },
 "nbformat": 4,
 "nbformat_minor": 5
}
