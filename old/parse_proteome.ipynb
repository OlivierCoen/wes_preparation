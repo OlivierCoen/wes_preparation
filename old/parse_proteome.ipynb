{
 "cells": [
  {
   "cell_type": "code",
   "id": "initial_id",
   "metadata": {
    "ExecuteTime": {
     "end_time": "2025-02-03T07:25:36.028637Z",
     "start_time": "2025-02-03T07:25:35.732909Z"
    }
   },
   "source": [
    "from Bio import SeqIO\n",
    "import pandas as pd"
   ],
   "outputs": [],
   "execution_count": 1
  },
  {
   "cell_type": "code",
   "id": "eb8ed025893e037b",
   "metadata": {
    "ExecuteTime": {
     "end_time": "2025-02-03T07:25:59.215329Z",
     "start_time": "2025-02-03T07:25:59.018533Z"
    }
   },
   "source": [
    "protein_file = \"Ahypochondriacus_315_v1.0.cds.fa\"\n",
    "with open(protein_file, 'r') as fin:\n",
    "    protein_records = list(SeqIO.parse(fin, format='fasta'))\n",
    "lengths = [len(rec.seq) for rec in protein_records]\n",
    "print(sum(lengths))\n",
    "len(protein_records)"
   ],
   "outputs": [
    {
     "name": "stdout",
     "output_type": "stream",
     "text": [
      "27038319\n"
     ]
    },
    {
     "data": {
      "text/plain": [
       "23059"
      ]
     },
     "execution_count": 3,
     "metadata": {},
     "output_type": "execute_result"
    }
   ],
   "execution_count": 3
  },
  {
   "cell_type": "code",
   "id": "1b9888e0-7ac0-4d5f-aeb4-fbe9f4f5292a",
   "metadata": {
    "ExecuteTime": {
     "end_time": "2025-01-27T10:29:44.436797Z",
     "start_time": "2025-01-27T10:29:44.211274Z"
    }
   },
   "source": [
    "cds_file = \"Ahypochondriacus_315_v1.0.cds_primaryTranscriptOnly.fa\"\n",
    "with open(cds_file, 'r') as fin:\n",
    "    cds_records = list(SeqIO.parse(fin, format='fasta'))\n",
    "cds_record_lengths = [len(rec.seq) for rec in cds_records]\n",
    "len(cds_records)"
   ],
   "outputs": [
    {
     "data": {
      "text/plain": [
       "23033"
      ]
     },
     "execution_count": 3,
     "metadata": {},
     "output_type": "execute_result"
    }
   ],
   "execution_count": 3
  },
  {
   "metadata": {
    "ExecuteTime": {
     "end_time": "2025-01-27T10:29:53.615206Z",
     "start_time": "2025-01-27T10:29:53.611963Z"
    }
   },
   "cell_type": "code",
   "source": "sum(cds_record_lengths)",
   "id": "cdddc7beab7081de",
   "outputs": [
    {
     "data": {
      "text/plain": [
       "27030576"
      ]
     },
     "execution_count": 6,
     "metadata": {},
     "output_type": "execute_result"
    }
   ],
   "execution_count": 6
  },
  {
   "metadata": {
    "ExecuteTime": {
     "end_time": "2025-01-27T10:30:04.332924Z",
     "start_time": "2025-01-27T10:30:04.187662Z"
    }
   },
   "cell_type": "code",
   "source": [
    "with open(\"unwanted_proteins.txt\", 'r') as fin:\n",
    "    unwanted_proteins = [line.strip() for line in fin]\n",
    "valid_cds_records = [\n",
    "    cds_record for cds_record in cds_records \n",
    "    if cds_record.id not in unwanted_proteins\n",
    "]\n",
    "valid_cds_record_lengths = [len(rec.seq) for rec in valid_cds_records]\n",
    "len(valid_cds_records)"
   ],
   "id": "d37dcc297516c568",
   "outputs": [
    {
     "data": {
      "text/plain": [
       "22372"
      ]
     },
     "execution_count": 8,
     "metadata": {},
     "output_type": "execute_result"
    }
   ],
   "execution_count": 8
  },
  {
   "cell_type": "code",
   "id": "0053a98c-2a8e-4a8f-a837-31b3c13bcfff",
   "metadata": {
    "ExecuteTime": {
     "end_time": "2025-01-27T10:30:04.447697Z",
     "start_time": "2025-01-27T10:30:04.444006Z"
    }
   },
   "source": "sum(valid_cds_record_lengths)",
   "outputs": [
    {
     "data": {
      "text/plain": [
       "26441616"
      ]
     },
     "execution_count": 9,
     "metadata": {},
     "output_type": "execute_result"
    }
   ],
   "execution_count": 9
  },
  {
   "cell_type": "code",
   "execution_count": null,
   "id": "a51b7388-a6a5-4635-aff4-353613dce713",
   "metadata": {},
   "outputs": [],
   "source": []
  }
 ],
 "metadata": {
  "kernelspec": {
   "display_name": "Python 3 (ipykernel)",
   "language": "python",
   "name": "python3"
  },
  "language_info": {
   "codemirror_mode": {
    "name": "ipython",
    "version": 3
   },
   "file_extension": ".py",
   "mimetype": "text/x-python",
   "name": "python",
   "nbconvert_exporter": "python",
   "pygments_lexer": "ipython3",
   "version": "3.12.8"
  }
 },
 "nbformat": 4,
 "nbformat_minor": 5
}
