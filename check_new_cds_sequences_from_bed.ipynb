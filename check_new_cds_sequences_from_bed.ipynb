{
 "cells": [
  {
   "cell_type": "code",
   "id": "initial_id",
   "metadata": {
    "collapsed": true
   },
   "source": [
    "from Bio import SeqIO\n",
    "from tqdm.auto import tqdm\n",
    "tqdm.pandas()"
   ],
   "outputs": [],
   "execution_count": null
  },
  {
   "metadata": {},
   "cell_type": "markdown",
   "source": "## After creation of CDS file with Bedtools",
   "id": "73bdc9078fb2757c"
  },
  {
   "metadata": {},
   "cell_type": "markdown",
   "source": "### Parsing new CDS file",
   "id": "f57e8a104db97e62"
  },
  {
   "metadata": {},
   "cell_type": "code",
   "source": [
    "cds_file = \"Ahypochondriacus_315_v1.0.gene.cter_trimmed.from_bed.fa\"\n",
    "with open(cds_file, 'r') as fin:\n",
    "    cds_records = list(SeqIO.parse(fin, format='fasta'))\n",
    "print(f\"Number of CDS sequences: {len(cds_records)}\")\n",
    "cds_ids = [rec.id for rec in cds_records]\n",
    "cds_record_lengths = [len(rec.seq) for rec in cds_records]\n",
    "length_sum = sum(cds_record_lengths)\n",
    "print(f\"Cumulated length of all CDS: {length_sum}\")"
   ],
   "id": "6c3b27ac82f4863a",
   "outputs": [],
   "execution_count": null
  },
  {
   "metadata": {},
   "cell_type": "markdown",
   "source": "### Checking if the new sequences are subset of the original ones",
   "id": "f8c74af55d84cd69"
  },
  {
   "metadata": {},
   "cell_type": "code",
   "source": "original_cds_file = \"Phytozome/PhytozomeV12/Ahypochondriacus/annotation/Ahypochondriacus_315_v1.0.cds_primaryTranscriptOnly.fa\"",
   "id": "aecc485a804bd895",
   "outputs": [],
   "execution_count": null
  },
  {
   "metadata": {},
   "cell_type": "code",
   "source": [
    "with open(original_cds_file, 'r') as fin:\n",
    "    original_cds_records = list(SeqIO.parse(fin, format='fasta'))\n",
    "original_cds_records = sorted(original_cds_records, key=lambda rec: rec.id)\n",
    "original_cds_ids = [rec.id for rec in original_cds_records]\n",
    "original_cds_record_lengths = [len(rec.seq) for rec in original_cds_records]\n",
    "original_length_sum = sum(original_cds_record_lengths)"
   ],
   "id": "21b7e32a798cb8f5",
   "outputs": [],
   "execution_count": null
  },
  {
   "metadata": {},
   "cell_type": "code",
   "source": [
    "# checking that all cds sequences are subset of the original ones\n",
    "# it's not a problem if new sequences are present, they were in the annotation file anyway\n",
    "for cds_id in cds_ids:\n",
    "    if not cds_id.split(\".\")[0] in original_cds_ids:\n",
    "        print(f\"Record {cds_id} not found in original file\")\n",
    "    "
   ],
   "id": "6ba5c07b8dfd5f3b",
   "outputs": [],
   "execution_count": null
  },
  {
   "metadata": {},
   "cell_type": "markdown",
   "source": "### Checking if the size ratio is respected",
   "id": "1a83569322ce6f57"
  },
  {
   "metadata": {},
   "cell_type": "code",
   "source": [
    "target_length_sum = 2E7\n",
    "trimming_ratio = 1 - target_length_sum / original_length_sum\n",
    "trimming_ratio"
   ],
   "id": "a2555702d60ad574",
   "outputs": [],
   "execution_count": null
  },
  {
   "metadata": {},
   "cell_type": "code",
   "source": [
    "tolerance = 0.1\n",
    "expected_length_ratio = 1 - trimming_ratio\n",
    "min_ratio = expected_length_ratio * (1 - tolerance)\n",
    "max_ratio = expected_length_ratio * (1 + tolerance)\n",
    "\n",
    "for record in tqdm(cds_records):\n",
    "    for original_record in original_cds_records:\n",
    "        # checking if the new sequence is contained in the original one\n",
    "        if record.id.split(\".\")[0] == original_record.id:\n",
    "            \n",
    "            if not record.seq in original_record.seq:\n",
    "                raise ValueError(f'Sequence of {record.id} is not included in the original one')\n",
    "            \n",
    "            # checking if the size ratio is respected\n",
    "            actual_ratio = len(record.seq) / len(original_record.seq)\n",
    "            if not min_ratio <= actual_ratio <= max_ratio:\n",
    "                raise ValueError(f'Ratio of {record.id}: {actual_ratio}  is not between {min_ratio} and {max_ratio}')\n",
    "        "
   ],
   "id": "8a588efedb68c93a",
   "outputs": [],
   "execution_count": null
  },
  {
   "metadata": {},
   "cell_type": "code",
   "source": "",
   "id": "edca89ecf725f6c4",
   "outputs": [],
   "execution_count": null
  }
 ],
 "metadata": {
  "kernelspec": {
   "display_name": "Python 3",
   "language": "python",
   "name": "python3"
  },
  "language_info": {
   "codemirror_mode": {
    "name": "ipython",
    "version": 2
   },
   "file_extension": ".py",
   "mimetype": "text/x-python",
   "name": "python",
   "nbconvert_exporter": "python",
   "pygments_lexer": "ipython2",
   "version": "2.7.6"
  }
 },
 "nbformat": 4,
 "nbformat_minor": 5
}
