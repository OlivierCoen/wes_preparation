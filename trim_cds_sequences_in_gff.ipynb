{
 "cells": [
  {
   "cell_type": "code",
   "id": "81a875d57fe6e692",
   "metadata": {},
   "source": [
    "from Bio import SeqIO\n",
    "import pandas as pd\n",
    "from tqdm.auto import tqdm\n",
    "tqdm.pandas()"
   ],
   "outputs": [],
   "execution_count": null
  },
  {
   "cell_type": "code",
   "id": "e497961bd8d11228",
   "metadata": {},
   "source": [
    "GFF_COLS = [\n",
    "    \"seqname\",\n",
    "    \"source\",\n",
    "    \"feature\",\n",
    "    \"start\",\n",
    "    \"end\",\n",
    "    \"score\",\n",
    "    \"strand\",\n",
    "    \"frame\",\n",
    "    \"attribute\"\n",
    "]"
   ],
   "outputs": [],
   "execution_count": null
  },
  {
   "cell_type": "code",
   "id": "50aaf492617e8d2b",
   "metadata": {},
   "source": [
    "gff_file = \"Phytozome/PhytozomeV12/Ahypochondriacus/annotation/Ahypochondriacus_315_v1.0.gene.gff3\"\n",
    "original_cds_file = \"Phytozome/PhytozomeV12/Ahypochondriacus/annotation/Ahypochondriacus_315_v1.0.cds_primaryTranscriptOnly.fa\""
   ],
   "outputs": [],
   "execution_count": null
  },
  {
   "metadata": {},
   "cell_type": "markdown",
   "source": "## Parsing original CDS",
   "id": "48a35c3257ec37db"
  },
  {
   "cell_type": "code",
   "id": "7e62b615451c9c1a",
   "metadata": {},
   "source": [
    "with open(original_cds_file, 'r') as fin:\n",
    "    original_cds_records = list(SeqIO.parse(fin, format='fasta'))\n",
    "print(len(original_cds_records))\n",
    "original_cds_ids = [rec.id for rec in original_cds_records]\n",
    "original_cds_record_lengths = [len(rec.seq) for rec in original_cds_records]\n",
    "original_length_sum = sum(original_cds_record_lengths)\n",
    "print(original_length_sum)"
   ],
   "outputs": [],
   "execution_count": null
  },
  {
   "metadata": {},
   "cell_type": "markdown",
   "source": "## Determining trimming ratio",
   "id": "5dacb9187f3c08ac"
  },
  {
   "cell_type": "code",
   "id": "d6e82f18acba8cd6",
   "metadata": {},
   "source": [
    "target_length_sum = 2E7\n",
    "trimming_ratio  = 1 - target_length_sum / original_length_sum\n",
    "trimming_ratio"
   ],
   "outputs": [],
   "execution_count": null
  },
  {
   "metadata": {},
   "cell_type": "markdown",
   "source": "## Trimming sequences in GFF file",
   "id": "1b236da6ce91f71e"
  },
  {
   "cell_type": "code",
   "id": "24c4afe86d938aef",
   "metadata": {},
   "source": [
    "df = pd.read_csv(gff_file, sep=\"\\t\", header=None, names=GFF_COLS, skiprows=3)\n",
    "# keep only CDS entries\n",
    "df = df[df[\"feature\"] == \"CDS\"]\n",
    "# extract the gene name\n",
    "df[\"gene\"] = df[\"attribute\"].str.split(\";\").str[1].str.split(\"Parent=\").str[1].str.split(\".\").str[0]"
   ],
   "outputs": [],
   "execution_count": null
  },
  {
   "metadata": {},
   "cell_type": "code",
   "source": [
    "unwanted_proteins_file = \"unwanted_proteins.txt\"\n",
    "with open(unwanted_proteins_file, \"r\") as fin:\n",
    "    unwanted_proteins = [line.strip() for line in fin]\n",
    "df = df[~df[\"gene\"].isin(unwanted_proteins)]"
   ],
   "id": "2308efa896be560d",
   "outputs": [],
   "execution_count": null
  },
  {
   "cell_type": "code",
   "id": "6bd8fba3e1d879fd",
   "metadata": {},
   "source": [
    "def trim_gene(group: pd.DataFrame):\n",
    "\n",
    "    strand = group[\"strand\"].iloc[0]\n",
    "    # in case of \"-\" strand, changing side for trimming\n",
    "    if strand == \"+\":\n",
    "        group = group.sort_values(by=\"start\", ascending=True)\n",
    "    else:\n",
    "        group = group.sort_values(by=\"start\", ascending=False)\n",
    "    \n",
    "    # same for strand -\n",
    "    total_length = (group[\"end\"] - group[\"start\"] + 1).sum()\n",
    "    \n",
    "    # calculate how much to trim\n",
    "    trimmed_length = int(total_length * trimming_ratio)\n",
    "    \n",
    "    # trim from the end of the CDS entries\n",
    "    remaining_trim = trimmed_length\n",
    "    \n",
    "    # iterate from last CDS to the first\n",
    "    for cds_id, row in group[::-1].iterrows():  \n",
    "        \n",
    "        cds_length = row[\"end\"] - row[\"start\"] + 1\n",
    "        \n",
    "        if remaining_trim >= cds_length:\n",
    "            remaining_trim -= cds_length\n",
    "        else:\n",
    "            if strand == \"+\":\n",
    "                row[\"end\"] -= remaining_trim\n",
    "            else:\n",
    "                row[\"start\"] += remaining_trim\n",
    "            break\n",
    "\n",
    "    # add all the untrimmed CDS entries\n",
    "    # cds_id is the latest trimmed CDS\n",
    "    # adding the last CDS (the one that was trimmed)\n",
    "    trimmed_group = pd.concat([group[group.index < cds_id], row.to_frame().T], ignore_index=True)\n",
    "    \n",
    "    return trimmed_group"
   ],
   "outputs": [],
   "execution_count": null
  },
  {
   "cell_type": "code",
   "id": "ebad4f1b867dee4f",
   "metadata": {},
   "source": [
    "# Group by gene name and apply the trimming\n",
    "trimmed_df = df.groupby(\"gene\").progress_apply(trim_gene).reset_index(drop=True)"
   ],
   "outputs": [],
   "execution_count": null
  },
  {
   "metadata": {},
   "cell_type": "markdown",
   "source": "## Exporting new GFF file",
   "id": "348f7778f7bf3ed6"
  },
  {
   "cell_type": "code",
   "id": "d3d76e61-06ad-48e1-8e0c-9afe6cd252e6",
   "metadata": {},
   "source": [
    "outfile = \"Ahypochondriacus_315_v1.0.gene.cds_only.cter_trimmed.gff3\"\n",
    "trimmed_df[GFF_COLS].to_csv(outfile, index=False, header=False, sep=\"\\t\")"
   ],
   "outputs": [],
   "execution_count": null
  }
 ],
 "metadata": {
  "kernelspec": {
   "display_name": "Python 3 (ipykernel)",
   "language": "python",
   "name": "python3"
  },
  "language_info": {
   "codemirror_mode": {
    "name": "ipython",
    "version": 3
   },
   "file_extension": ".py",
   "mimetype": "text/x-python",
   "name": "python",
   "nbconvert_exporter": "python",
   "pygments_lexer": "ipython3",
   "version": "3.12.3"
  }
 },
 "nbformat": 4,
 "nbformat_minor": 5
}
