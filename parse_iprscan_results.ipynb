{
 "cells": [
  {
   "cell_type": "code",
   "id": "initial_id",
   "metadata": {
    "collapsed": true,
    "ExecuteTime": {
     "end_time": "2025-01-27T09:35:10.840765Z",
     "start_time": "2025-01-27T09:35:10.458586Z"
    }
   },
   "source": [
    "import pandas as pd\n",
    "from functools import partial"
   ],
   "outputs": [],
   "execution_count": 1
  },
  {
   "metadata": {
    "ExecuteTime": {
     "end_time": "2025-01-27T09:35:10.849375Z",
     "start_time": "2025-01-27T09:35:10.846777Z"
    }
   },
   "cell_type": "code",
   "source": [
    "columns = [\n",
    "    \"protein_accession\",\n",
    "    \"sequence_md5_digest\",\n",
    "    \"sequence_length\",\n",
    "    \"analysis\",\n",
    "    \"signature_accession\",\n",
    "    \"signature_description\",\n",
    "    \"start_location\",\n",
    "    \"stop_location\",\n",
    "    \"score\",\n",
    "    \"status\",\n",
    "    \"date\",\n",
    "    \"interpro_annotations_accession\",\n",
    "    \"interpro_annotations_description\",\n",
    "    \"go_annotation\",\n",
    "    \"pathway_annotation\"\n",
    "]"
   ],
   "id": "11b06a8db18814a9",
   "outputs": [],
   "execution_count": 2
  },
  {
   "metadata": {
    "ExecuteTime": {
     "end_time": "2025-01-27T09:35:11.314196Z",
     "start_time": "2025-01-27T09:35:10.925958Z"
    }
   },
   "cell_type": "code",
   "source": [
    "file = \"/home/olivier/interproscan/output/Ahypochondriacus_315_v1.0.protein.fa.tsv\"\n",
    "df = pd.read_csv(file, sep=\"\\t\", header=None, names=columns)"
   ],
   "id": "8a2e0f68c76d538e",
   "outputs": [],
   "execution_count": 3
  },
  {
   "metadata": {
    "ExecuteTime": {
     "end_time": "2025-01-27T09:35:11.345727Z",
     "start_time": "2025-01-27T09:35:11.332882Z"
    }
   },
   "cell_type": "code",
   "source": "df",
   "id": "b7b7fc8b108ff4f7",
   "outputs": [
    {
     "data": {
      "text/plain": [
       "       protein_accession               sequence_md5_digest  sequence_length  \\\n",
       "0        AHYPO_003120-RA  c013898bc4a4a5da9d17c19ce37e5b66              286   \n",
       "1        AHYPO_003120-RA  c013898bc4a4a5da9d17c19ce37e5b66              286   \n",
       "2        AHYPO_003120-RA  c013898bc4a4a5da9d17c19ce37e5b66              286   \n",
       "3        AHYPO_003120-RA  c013898bc4a4a5da9d17c19ce37e5b66              286   \n",
       "4        AHYPO_016636-RA  7a2a7f42ad6ed4eb00e4bb2dd93a595a              415   \n",
       "...                  ...                               ...              ...   \n",
       "216085   AHYPO_016236-RA  3d60c71eee44d88ca5d505a44fb4faad              717   \n",
       "216086   AHYPO_016236-RA  3d60c71eee44d88ca5d505a44fb4faad              717   \n",
       "216087   AHYPO_016236-RA  3d60c71eee44d88ca5d505a44fb4faad              717   \n",
       "216088   AHYPO_011658-RA  d2839fdf340d2432de0b37e21557fc2f              258   \n",
       "216089   AHYPO_011658-RA  d2839fdf340d2432de0b37e21557fc2f              258   \n",
       "\n",
       "           analysis signature_accession  \\\n",
       "0           PANTHER           PTHR31161   \n",
       "1             Coils                Coil   \n",
       "2             Coils                Coil   \n",
       "3             Coils                Coil   \n",
       "4             SMART             SM00356   \n",
       "...             ...                 ...   \n",
       "216085  SUPERFAMILY            SSF56112   \n",
       "216086       Gene3D   G3DSA:1.10.510.10   \n",
       "216087         Pfam             PF24289   \n",
       "216088         Pfam             PF02485   \n",
       "216089      PANTHER           PTHR45719   \n",
       "\n",
       "                           signature_description  start_location  \\\n",
       "0             PROTEIN GRAVITROPIC IN THE LIGHT 1              25   \n",
       "1                                           Coil              18   \n",
       "2                                           Coil             214   \n",
       "3                                           Coil             167   \n",
       "4                                      c3hfinal6               3   \n",
       "...                                          ...             ...   \n",
       "216085             Protein kinase-like (PK-like)             151   \n",
       "216086  Transferase(Phosphotransferase) domain 1             122   \n",
       "216087      Domain of unknown function (DUF7477)             450   \n",
       "216088                 Core-2/I-Branching enzyme              87   \n",
       "216089                       GLYCOSYLTRANSFERASE              11   \n",
       "\n",
       "        stop_location     score status        date  \\\n",
       "0                 281   6.3E-10      T  25-01-2025   \n",
       "1                  52         -      T  25-01-2025   \n",
       "2                 245         -      T  25-01-2025   \n",
       "3                 206         -      T  25-01-2025   \n",
       "4                  28    2.3E-7      T  25-01-2025   \n",
       "...               ...       ...    ...         ...   \n",
       "216085            433  1.78E-61      T  25-01-2025   \n",
       "216086            466   4.3E-81      T  25-01-2025   \n",
       "216087            717  9.2E-157      T  25-01-2025   \n",
       "216088            247   5.2E-43      T  25-01-2025   \n",
       "216089            249   8.5E-90      T  25-01-2025   \n",
       "\n",
       "       interpro_annotations_accession  \\\n",
       "0                           IPR040225   \n",
       "1                                   -   \n",
       "2                                   -   \n",
       "3                                   -   \n",
       "4                           IPR000571   \n",
       "...                               ...   \n",
       "216085                      IPR011009   \n",
       "216086                              -   \n",
       "216087                      IPR055900   \n",
       "216088                      IPR003406   \n",
       "216089                      IPR044610   \n",
       "\n",
       "                 interpro_annotations_description go_annotation  \\\n",
       "0         Protein gravitropic in the light 1-like             -   \n",
       "1                                               -             -   \n",
       "2                                               -             -   \n",
       "3                                               -             -   \n",
       "4                          Zinc finger, CCCH-type             -   \n",
       "...                                           ...           ...   \n",
       "216085     Protein kinase-like domain superfamily             -   \n",
       "216086                                          -             -   \n",
       "216087         Domain of unknown function DUF7477             -   \n",
       "216088            Glycosyl transferase, family 14             -   \n",
       "216089  Beta-glucuronosyltransferase GlcAT14A/B/C             -   \n",
       "\n",
       "       pathway_annotation  \n",
       "0                       -  \n",
       "1                       -  \n",
       "2                       -  \n",
       "3                       -  \n",
       "4                       -  \n",
       "...                   ...  \n",
       "216085                  -  \n",
       "216086                  -  \n",
       "216087                  -  \n",
       "216088                  -  \n",
       "216089                  -  \n",
       "\n",
       "[216090 rows x 15 columns]"
      ],
      "text/html": [
       "<div>\n",
       "<style scoped>\n",
       "    .dataframe tbody tr th:only-of-type {\n",
       "        vertical-align: middle;\n",
       "    }\n",
       "\n",
       "    .dataframe tbody tr th {\n",
       "        vertical-align: top;\n",
       "    }\n",
       "\n",
       "    .dataframe thead th {\n",
       "        text-align: right;\n",
       "    }\n",
       "</style>\n",
       "<table border=\"1\" class=\"dataframe\">\n",
       "  <thead>\n",
       "    <tr style=\"text-align: right;\">\n",
       "      <th></th>\n",
       "      <th>protein_accession</th>\n",
       "      <th>sequence_md5_digest</th>\n",
       "      <th>sequence_length</th>\n",
       "      <th>analysis</th>\n",
       "      <th>signature_accession</th>\n",
       "      <th>signature_description</th>\n",
       "      <th>start_location</th>\n",
       "      <th>stop_location</th>\n",
       "      <th>score</th>\n",
       "      <th>status</th>\n",
       "      <th>date</th>\n",
       "      <th>interpro_annotations_accession</th>\n",
       "      <th>interpro_annotations_description</th>\n",
       "      <th>go_annotation</th>\n",
       "      <th>pathway_annotation</th>\n",
       "    </tr>\n",
       "  </thead>\n",
       "  <tbody>\n",
       "    <tr>\n",
       "      <th>0</th>\n",
       "      <td>AHYPO_003120-RA</td>\n",
       "      <td>c013898bc4a4a5da9d17c19ce37e5b66</td>\n",
       "      <td>286</td>\n",
       "      <td>PANTHER</td>\n",
       "      <td>PTHR31161</td>\n",
       "      <td>PROTEIN GRAVITROPIC IN THE LIGHT 1</td>\n",
       "      <td>25</td>\n",
       "      <td>281</td>\n",
       "      <td>6.3E-10</td>\n",
       "      <td>T</td>\n",
       "      <td>25-01-2025</td>\n",
       "      <td>IPR040225</td>\n",
       "      <td>Protein gravitropic in the light 1-like</td>\n",
       "      <td>-</td>\n",
       "      <td>-</td>\n",
       "    </tr>\n",
       "    <tr>\n",
       "      <th>1</th>\n",
       "      <td>AHYPO_003120-RA</td>\n",
       "      <td>c013898bc4a4a5da9d17c19ce37e5b66</td>\n",
       "      <td>286</td>\n",
       "      <td>Coils</td>\n",
       "      <td>Coil</td>\n",
       "      <td>Coil</td>\n",
       "      <td>18</td>\n",
       "      <td>52</td>\n",
       "      <td>-</td>\n",
       "      <td>T</td>\n",
       "      <td>25-01-2025</td>\n",
       "      <td>-</td>\n",
       "      <td>-</td>\n",
       "      <td>-</td>\n",
       "      <td>-</td>\n",
       "    </tr>\n",
       "    <tr>\n",
       "      <th>2</th>\n",
       "      <td>AHYPO_003120-RA</td>\n",
       "      <td>c013898bc4a4a5da9d17c19ce37e5b66</td>\n",
       "      <td>286</td>\n",
       "      <td>Coils</td>\n",
       "      <td>Coil</td>\n",
       "      <td>Coil</td>\n",
       "      <td>214</td>\n",
       "      <td>245</td>\n",
       "      <td>-</td>\n",
       "      <td>T</td>\n",
       "      <td>25-01-2025</td>\n",
       "      <td>-</td>\n",
       "      <td>-</td>\n",
       "      <td>-</td>\n",
       "      <td>-</td>\n",
       "    </tr>\n",
       "    <tr>\n",
       "      <th>3</th>\n",
       "      <td>AHYPO_003120-RA</td>\n",
       "      <td>c013898bc4a4a5da9d17c19ce37e5b66</td>\n",
       "      <td>286</td>\n",
       "      <td>Coils</td>\n",
       "      <td>Coil</td>\n",
       "      <td>Coil</td>\n",
       "      <td>167</td>\n",
       "      <td>206</td>\n",
       "      <td>-</td>\n",
       "      <td>T</td>\n",
       "      <td>25-01-2025</td>\n",
       "      <td>-</td>\n",
       "      <td>-</td>\n",
       "      <td>-</td>\n",
       "      <td>-</td>\n",
       "    </tr>\n",
       "    <tr>\n",
       "      <th>4</th>\n",
       "      <td>AHYPO_016636-RA</td>\n",
       "      <td>7a2a7f42ad6ed4eb00e4bb2dd93a595a</td>\n",
       "      <td>415</td>\n",
       "      <td>SMART</td>\n",
       "      <td>SM00356</td>\n",
       "      <td>c3hfinal6</td>\n",
       "      <td>3</td>\n",
       "      <td>28</td>\n",
       "      <td>2.3E-7</td>\n",
       "      <td>T</td>\n",
       "      <td>25-01-2025</td>\n",
       "      <td>IPR000571</td>\n",
       "      <td>Zinc finger, CCCH-type</td>\n",
       "      <td>-</td>\n",
       "      <td>-</td>\n",
       "    </tr>\n",
       "    <tr>\n",
       "      <th>...</th>\n",
       "      <td>...</td>\n",
       "      <td>...</td>\n",
       "      <td>...</td>\n",
       "      <td>...</td>\n",
       "      <td>...</td>\n",
       "      <td>...</td>\n",
       "      <td>...</td>\n",
       "      <td>...</td>\n",
       "      <td>...</td>\n",
       "      <td>...</td>\n",
       "      <td>...</td>\n",
       "      <td>...</td>\n",
       "      <td>...</td>\n",
       "      <td>...</td>\n",
       "      <td>...</td>\n",
       "    </tr>\n",
       "    <tr>\n",
       "      <th>216085</th>\n",
       "      <td>AHYPO_016236-RA</td>\n",
       "      <td>3d60c71eee44d88ca5d505a44fb4faad</td>\n",
       "      <td>717</td>\n",
       "      <td>SUPERFAMILY</td>\n",
       "      <td>SSF56112</td>\n",
       "      <td>Protein kinase-like (PK-like)</td>\n",
       "      <td>151</td>\n",
       "      <td>433</td>\n",
       "      <td>1.78E-61</td>\n",
       "      <td>T</td>\n",
       "      <td>25-01-2025</td>\n",
       "      <td>IPR011009</td>\n",
       "      <td>Protein kinase-like domain superfamily</td>\n",
       "      <td>-</td>\n",
       "      <td>-</td>\n",
       "    </tr>\n",
       "    <tr>\n",
       "      <th>216086</th>\n",
       "      <td>AHYPO_016236-RA</td>\n",
       "      <td>3d60c71eee44d88ca5d505a44fb4faad</td>\n",
       "      <td>717</td>\n",
       "      <td>Gene3D</td>\n",
       "      <td>G3DSA:1.10.510.10</td>\n",
       "      <td>Transferase(Phosphotransferase) domain 1</td>\n",
       "      <td>122</td>\n",
       "      <td>466</td>\n",
       "      <td>4.3E-81</td>\n",
       "      <td>T</td>\n",
       "      <td>25-01-2025</td>\n",
       "      <td>-</td>\n",
       "      <td>-</td>\n",
       "      <td>-</td>\n",
       "      <td>-</td>\n",
       "    </tr>\n",
       "    <tr>\n",
       "      <th>216087</th>\n",
       "      <td>AHYPO_016236-RA</td>\n",
       "      <td>3d60c71eee44d88ca5d505a44fb4faad</td>\n",
       "      <td>717</td>\n",
       "      <td>Pfam</td>\n",
       "      <td>PF24289</td>\n",
       "      <td>Domain of unknown function (DUF7477)</td>\n",
       "      <td>450</td>\n",
       "      <td>717</td>\n",
       "      <td>9.2E-157</td>\n",
       "      <td>T</td>\n",
       "      <td>25-01-2025</td>\n",
       "      <td>IPR055900</td>\n",
       "      <td>Domain of unknown function DUF7477</td>\n",
       "      <td>-</td>\n",
       "      <td>-</td>\n",
       "    </tr>\n",
       "    <tr>\n",
       "      <th>216088</th>\n",
       "      <td>AHYPO_011658-RA</td>\n",
       "      <td>d2839fdf340d2432de0b37e21557fc2f</td>\n",
       "      <td>258</td>\n",
       "      <td>Pfam</td>\n",
       "      <td>PF02485</td>\n",
       "      <td>Core-2/I-Branching enzyme</td>\n",
       "      <td>87</td>\n",
       "      <td>247</td>\n",
       "      <td>5.2E-43</td>\n",
       "      <td>T</td>\n",
       "      <td>25-01-2025</td>\n",
       "      <td>IPR003406</td>\n",
       "      <td>Glycosyl transferase, family 14</td>\n",
       "      <td>-</td>\n",
       "      <td>-</td>\n",
       "    </tr>\n",
       "    <tr>\n",
       "      <th>216089</th>\n",
       "      <td>AHYPO_011658-RA</td>\n",
       "      <td>d2839fdf340d2432de0b37e21557fc2f</td>\n",
       "      <td>258</td>\n",
       "      <td>PANTHER</td>\n",
       "      <td>PTHR45719</td>\n",
       "      <td>GLYCOSYLTRANSFERASE</td>\n",
       "      <td>11</td>\n",
       "      <td>249</td>\n",
       "      <td>8.5E-90</td>\n",
       "      <td>T</td>\n",
       "      <td>25-01-2025</td>\n",
       "      <td>IPR044610</td>\n",
       "      <td>Beta-glucuronosyltransferase GlcAT14A/B/C</td>\n",
       "      <td>-</td>\n",
       "      <td>-</td>\n",
       "    </tr>\n",
       "  </tbody>\n",
       "</table>\n",
       "<p>216090 rows × 15 columns</p>\n",
       "</div>"
      ]
     },
     "execution_count": 4,
     "metadata": {},
     "output_type": "execute_result"
    }
   ],
   "execution_count": 4
  },
  {
   "metadata": {
    "ExecuteTime": {
     "end_time": "2025-01-27T09:35:14.715277Z",
     "start_time": "2025-01-27T09:35:14.655196Z"
    }
   },
   "cell_type": "code",
   "source": [
    "import sys, json, ssl\n",
    "from urllib import request\n",
    "from urllib.error import HTTPError\n",
    "from time import sleep\n",
    "from tqdm.auto import tqdm\n",
    "\n",
    "\n",
    "def get_nb_entries(database: str):\n",
    "    BASE_URL = f\"https://www.ebi.ac.uk:443/interpro/api/entry/all/{database}/\"\n",
    "    req = request.Request(BASE_URL, headers={\"Accept\": \"application/json\"})\n",
    "    res = request.urlopen(req)\n",
    "    payload = json.loads(res.read().decode())\n",
    "    return payload[\"count\"]\n",
    "\n",
    "\n",
    "def get_entries(database: str):\n",
    "    \n",
    "    PAGE_SIZE = 200\n",
    "    BASE_URL = f\"https://www.ebi.ac.uk:443/interpro/api/entry/all/database/?page_size={PAGE_SIZE}\"\n",
    "    \n",
    "    entries = []\n",
    "  \n",
    "    #disable SSL verification to avoid config issues\n",
    "    context = ssl._create_unverified_context()\n",
    "    \n",
    "    next = BASE_URL\n",
    "    \n",
    "    total_nb_entries = get_nb_entries(database)\n",
    "    pbar = tqdm(total=total_nb_entries)\n",
    "    \n",
    "    attempts = 0\n",
    "    i = 0\n",
    "    while next:\n",
    "    \n",
    "        try:\n",
    "            req = request.Request(next, headers={\"Accept\": \"application/json\"})\n",
    "            res = request.urlopen(req, context=context)\n",
    "            # If the API times out due a long running query\n",
    "            if res.status == 408:\n",
    "                # wait just over a minute\n",
    "                sleep(61)\n",
    "                # then continue this loop with the same URL\n",
    "                continue\n",
    "            elif res.status == 204:\n",
    "                #no data so leave loop\n",
    "                break\n",
    "            payload = json.loads(res.read().decode())\n",
    "            next = payload[\"next\"]\n",
    "            attempts = 0\n",
    "            \n",
    "            entries += payload[\"results\"]\n",
    "        \n",
    "        except HTTPError as e:\n",
    "            if e.code == 408:\n",
    "                sleep(61)\n",
    "                continue\n",
    "            else:\n",
    "                # If there is a different HTTP error, it wil re-try 3 times before failing\n",
    "                if attempts < 3:\n",
    "                    attempts += 1\n",
    "                    sleep(61)\n",
    "                    continue\n",
    "                else:\n",
    "                    sys.stderr.write(\"LAST URL: \" + next)\n",
    "                    raise e\n",
    "          \n",
    "        # Don't overload the server, give it time before asking for more\n",
    "        if next:\n",
    "            sleep(1)\n",
    "        \n",
    "        i += 1\n",
    "        pbar.update(i * PAGE_SIZE)\n",
    "    \n",
    "    pbar.close()\n",
    "    \n",
    "    return entries"
   ],
   "id": "d917aa569aea46dd",
   "outputs": [],
   "execution_count": 5
  },
  {
   "metadata": {
    "ExecuteTime": {
     "end_time": "2025-01-26T09:31:31.105906Z",
     "start_time": "2025-01-26T09:25:52.469607Z"
    }
   },
   "cell_type": "code",
   "source": [
    "pfam_entries = get_entries(database=\"pfam\")\n",
    "panther_entries = get_entries(database=\"panther\")\n",
    "ncbifam_entries = get_entries(database=\"ncbifam\")\n",
    "cdd_entries = get_entries(database=\"cdd\")\n",
    "superfamily_entries = get_entries(database=\"ssf\")\n",
    "smart_entries = get_entries(database=\"smart\")\n",
    "prosite_profile_entries = get_entries(database=\"profile\")\n",
    "prosite_pattern_entries = get_entries(database=\"prosite\")\n"
   ],
   "id": "4fb051cf45e60c4c",
   "outputs": [
    {
     "data": {
      "text/plain": [
       "  0%|          | 0/23801 [00:00<?, ?it/s]"
      ],
      "application/vnd.jupyter.widget-view+json": {
       "version_major": 2,
       "version_minor": 0,
       "model_id": "1da8c7735b864cdabecc893056c697d1"
      }
     },
     "metadata": {},
     "output_type": "display_data"
    }
   ],
   "execution_count": 67
  },
  {
   "metadata": {
    "ExecuteTime": {
     "end_time": "2025-01-26T10:04:41.018279Z",
     "start_time": "2025-01-26T10:04:41.008176Z"
    }
   },
   "cell_type": "code",
   "source": "df.analysis.unique()",
   "id": "1744d4a1c148e650",
   "outputs": [
    {
     "data": {
      "text/plain": [
       "array(['PANTHER', 'Coils', 'SMART', 'MobiDBLite', 'Gene3D',\n",
       "       'ProSiteProfiles', 'Pfam', 'SUPERFAMILY', 'FunFam', 'PRINTS',\n",
       "       'CDD', 'NCBIfam', 'ProSitePatterns', 'Hamap', 'PIRSF', 'SFLD',\n",
       "       'AntiFam'], dtype=object)"
      ]
     },
     "execution_count": 121,
     "metadata": {},
     "output_type": "execute_result"
    }
   ],
   "execution_count": 121
  },
  {
   "metadata": {
    "ExecuteTime": {
     "end_time": "2025-01-26T09:36:55.354090Z",
     "start_time": "2025-01-26T09:36:55.348381Z"
    }
   },
   "cell_type": "code",
   "source": [
    "def get_specific_entries(entries, keyword: str):\n",
    "    specific_entries = []\n",
    "    for entry in entries:\n",
    "        metadata = entry[\"metadata\"]\n",
    "        if keyword.lower() in metadata[\"name\"].lower():\n",
    "            specific_entries.append(metadata[\"accession\"])\n",
    "    return specific_entries"
   ],
   "id": "d47f7802ffd71c42",
   "outputs": [],
   "execution_count": 86
  },
  {
   "metadata": {
    "ExecuteTime": {
     "end_time": "2025-01-27T10:23:22.205796Z",
     "start_time": "2025-01-27T10:23:22.202793Z"
    }
   },
   "cell_type": "code",
   "source": [
    "keywords = [\n",
    "    \"integrase\",\n",
    "    \"reverse transcriptase\",\n",
    "    \"RNase H\",\n",
    "    \"transpos\",\n",
    "    \"ribosom\"\n",
    "]"
   ],
   "id": "e8486944f0b251a3",
   "outputs": [],
   "execution_count": 34
  },
  {
   "metadata": {
    "ExecuteTime": {
     "end_time": "2025-01-27T09:37:41.262701Z",
     "start_time": "2025-01-27T09:37:41.244736Z"
    }
   },
   "cell_type": "code",
   "source": [
    "specific_entries = []\n",
    "for keyword in keywords:\n",
    "    specific_entries += get_specific_entries(entries, keyword)\n",
    "specific_entries = list(set(specific_entries))"
   ],
   "id": "5dd583dc8746d3f4",
   "outputs": [
    {
     "ename": "NameError",
     "evalue": "name 'get_specific_entries' is not defined",
     "output_type": "error",
     "traceback": [
      "\u001B[0;31m---------------------------------------------------------------------------\u001B[0m",
      "\u001B[0;31mNameError\u001B[0m                                 Traceback (most recent call last)",
      "Cell \u001B[0;32mIn[17], line 3\u001B[0m\n\u001B[1;32m      1\u001B[0m specific_entries \u001B[38;5;241m=\u001B[39m []\n\u001B[1;32m      2\u001B[0m \u001B[38;5;28;01mfor\u001B[39;00m keyword \u001B[38;5;129;01min\u001B[39;00m keywords:\n\u001B[0;32m----> 3\u001B[0m     specific_entries \u001B[38;5;241m+\u001B[39m\u001B[38;5;241m=\u001B[39m \u001B[43mget_specific_entries\u001B[49m(entries, keyword)\n\u001B[1;32m      4\u001B[0m specific_entries \u001B[38;5;241m=\u001B[39m \u001B[38;5;28mlist\u001B[39m(\u001B[38;5;28mset\u001B[39m(specific_entries))\n",
      "\u001B[0;31mNameError\u001B[0m: name 'get_specific_entries' is not defined"
     ]
    }
   ],
   "execution_count": 17
  },
  {
   "metadata": {
    "ExecuteTime": {
     "end_time": "2025-01-27T09:37:41.585851Z",
     "start_time": "2025-01-27T09:37:41.535190Z"
    }
   },
   "cell_type": "code",
   "source": [
    "mask_antifam = (df.analysis == \"AntiFam\")\n",
    "mask_pfam = (df.analysis == \"Pfam\") & (df.signature_accession.isin(specific_entries))\n",
    "\n",
    "filtered_df = df[mask_antifam | mask_pfam]"
   ],
   "id": "51c3e7eaf14861d",
   "outputs": [],
   "execution_count": 18
  },
  {
   "metadata": {
    "ExecuteTime": {
     "end_time": "2025-01-27T09:35:52.152179Z",
     "start_time": "2025-01-27T09:35:52.146131Z"
    }
   },
   "cell_type": "code",
   "source": [
    "def contains_keyword(string: str, keywords: list):\n",
    "    for keyword in keywords:\n",
    "        if keyword.lower() in string.lower():\n",
    "            return True\n",
    "    return False"
   ],
   "id": "e91ad55a06c19809",
   "outputs": [],
   "execution_count": 12
  },
  {
   "metadata": {
    "ExecuteTime": {
     "end_time": "2025-01-27T10:30:33.003071Z",
     "start_time": "2025-01-27T10:30:32.828037Z"
    }
   },
   "cell_type": "code",
   "source": [
    "func = partial(contains_keyword, keywords=keywords)\n",
    "fdf = df[df.signature_description.apply(func)]\n",
    "with open(\"unwanted_proteins.txt\", \"w\") as fout:\n",
    "    fout.write(\"\\n\".join(fdf.protein_accession.unique().tolist()))\n",
    "len(fdf.protein_accession.unique())"
   ],
   "id": "3360a33328d57e3f",
   "outputs": [
    {
     "data": {
      "text/plain": [
       "661"
      ]
     },
     "execution_count": 44,
     "metadata": {},
     "output_type": "execute_result"
    }
   ],
   "execution_count": 44
  },
  {
   "metadata": {},
   "cell_type": "code",
   "outputs": [],
   "execution_count": null,
   "source": "",
   "id": "b20a6697aaf919a5"
  }
 ],
 "metadata": {
  "kernelspec": {
   "display_name": "Python 3",
   "language": "python",
   "name": "python3"
  },
  "language_info": {
   "codemirror_mode": {
    "name": "ipython",
    "version": 2
   },
   "file_extension": ".py",
   "mimetype": "text/x-python",
   "name": "python",
   "nbconvert_exporter": "python",
   "pygments_lexer": "ipython2",
   "version": "2.7.6"
  }
 },
 "nbformat": 4,
 "nbformat_minor": 5
}
